{
  "nbformat": 4,
  "nbformat_minor": 0,
  "metadata": {
    "colab": {
      "provenance": [],
      "toc_visible": true,
      "authorship_tag": "ABX9TyOrdJWyzQOTdFpjBu0xBC/R",
      "include_colab_link": true
    },
    "kernelspec": {
      "name": "python3",
      "display_name": "Python 3"
    },
    "language_info": {
      "name": "python"
    }
  },
  "cells": [
    {
      "cell_type": "markdown",
      "metadata": {
        "id": "view-in-github",
        "colab_type": "text"
      },
      "source": [
        "<a href=\"https://colab.research.google.com/github/BARKHAC/NLP-Grammar-Analysis/blob/main/NLP.ipynb\" target=\"_parent\"><img src=\"https://colab.research.google.com/assets/colab-badge.svg\" alt=\"Open In Colab\"/></a>"
      ]
    },
    {
      "cell_type": "markdown",
      "source": [
        "Subject , Object , Verb Analysis"
      ],
      "metadata": {
        "id": "w4-y-0XaELmv"
      }
    },
    {
      "cell_type": "code",
      "source": [
        "import spacy\n",
        "\n",
        "def analyze_sentence_structure(paragraph):\n",
        "    nlp = spacy.load(\"en_core_web_sm\")\n",
        "    doc = nlp(paragraph)\n",
        "\n",
        "    for sentence in doc.sents:\n",
        "        subject = \"\"\n",
        "        verb = \"\"\n",
        "        obj = \"\"\n",
        "\n",
        "        for token in sentence:\n",
        "            if \"subj\" in token.dep_:\n",
        "                subject = token.text\n",
        "            if \"obj\" in token.dep_:\n",
        "                obj = token.text\n",
        "            if \"subjpass\" in token.dep_:\n",
        "                obj = token.text\n",
        "            if \"ROOT\" in token.dep_:\n",
        "                verb = token.text\n",
        "\n",
        "        print(f\"Sentence: {sentence.text.strip()}\")\n",
        "        print(f\"Subject: {subject}\\tVerb: {verb}\\tObject: {obj}\\n\")\n",
        "\n",
        "# Example usage\n",
        "paragraph = \"During exercise, the muscles require a higher supply of oxygen to meet the increased energy demands. The process of oxygen delivery to the muscles involves several interconnected systems, including the respiratory system, cardiovascular system, and the muscles themselves.\"\n",
        "analyze_sentence_structure(paragraph)\n"
      ],
      "metadata": {
        "colab": {
          "base_uri": "https://localhost:8080/"
        },
        "id": "gHAblOE6964r",
        "outputId": "588997b1-8a79-4fad-e547-8ac6671e157f"
      },
      "execution_count": null,
      "outputs": [
        {
          "output_type": "stream",
          "name": "stdout",
          "text": [
            "Sentence: During exercise, the muscles require a higher supply of oxygen to meet the increased energy demands.\n",
            "Subject: muscles\tVerb: require\tObject: demands\n",
            "\n",
            "Sentence: The process of oxygen delivery to the muscles involves several interconnected systems, including the respiratory system, cardiovascular system, and the muscles themselves.\n",
            "Subject: process\tVerb: involves\tObject: system\n",
            "\n"
          ]
        }
      ]
    },
    {
      "cell_type": "markdown",
      "source": [
        "Type Of Sentence and Rhythm"
      ],
      "metadata": {
        "id": "fTa8dNvkD1jr"
      }
    },
    {
      "cell_type": "code",
      "source": [
        "import spacy\n",
        "\n",
        "def analyze_writing_style(paragraph):\n",
        "    nlp = spacy.load(\"en_core_web_sm\")\n",
        "    doc = nlp(paragraph)\n",
        "\n",
        "    sentence_lengths = []\n",
        "    sentence_types = []\n",
        "\n",
        "    for sentence in doc.sents:\n",
        "        sentence_lengths.append(len(sentence))\n",
        "        sentence_types.append(classify_sentence_type(sentence))\n",
        "\n",
        "    avg_sentence_length = sum(sentence_lengths) / len(sentence_lengths)\n",
        "    rhythm = assess_rhythm(sentence_lengths)\n",
        "\n",
        "    print(f\"Paragraph: {paragraph}\")\n",
        "    print(f\"\\nNumber of sentences: {len(sentence_lengths)}\")\n",
        "    print(f\"Average sentence length: {avg_sentence_length:.2f} words\")\n",
        "    print(f\"\\nSentence Types:\")\n",
        "    for i, sentence_type in enumerate(sentence_types, start=1):\n",
        "        print(f\"Sentence {i}: {sentence_type}\")\n",
        "    print(f\"\\nRhythm: {rhythm}\\n\")\n",
        "\n",
        "\n",
        "def classify_sentence_type(sentence):\n",
        "    if len(sentence) == 1:\n",
        "        return \"Simple\"\n",
        "    elif any(token.dep_ == \"cc\" for token in sentence):\n",
        "        return \"Compound\"\n",
        "    elif any(token.dep_ == \"mark\" for token in sentence):\n",
        "        return \"Complex\"\n",
        "    else:\n",
        "        return \"Simple\"\n",
        "\n",
        "\n",
        "def assess_rhythm(sentence_lengths):\n",
        "    rhythm_score = \"\"\n",
        "    previous_length = sentence_lengths[0]\n",
        "\n",
        "    for length in sentence_lengths[1:]:\n",
        "        if length > previous_length:\n",
        "            rhythm_score += \"+\"\n",
        "        elif length < previous_length:\n",
        "            rhythm_score += \"-\"\n",
        "        else:\n",
        "            rhythm_score += \"=\"\n",
        "        previous_length = length\n",
        "\n",
        "    return rhythm_score\n",
        "\n",
        "\n",
        "# Example usage\n",
        "paragraph = \"During exercise, the muscles require a higher supply of oxygen to meet the increased energy demands. The process of oxygen delivery to the muscles involves several interconnected systems, including the respiratory system, cardiovascular system, and the muscles themselves.\"\n",
        "analyze_writing_style(paragraph)\n"
      ],
      "metadata": {
        "colab": {
          "base_uri": "https://localhost:8080/"
        },
        "id": "yE9cXJ2nCPn0",
        "outputId": "4246114e-acba-41ab-f39a-580f946412f7"
      },
      "execution_count": null,
      "outputs": [
        {
          "output_type": "stream",
          "name": "stdout",
          "text": [
            "Paragraph: During exercise, the muscles require a higher supply of oxygen to meet the increased energy demands. The process of oxygen delivery to the muscles involves several interconnected systems, including the respiratory system, cardiovascular system, and the muscles themselves.\n",
            "\n",
            "Number of sentences: 2\n",
            "Average sentence length: 22.00 words\n",
            "\n",
            "Sentence Types:\n",
            "Sentence 1: Simple\n",
            "Sentence 2: Compound\n",
            "\n",
            "Rhythm: +\n",
            "\n"
          ]
        }
      ]
    },
    {
      "cell_type": "markdown",
      "source": [
        "Keyword Frequency and Coherence Analysis"
      ],
      "metadata": {
        "id": "FKu6p2VoEVqA"
      }
    },
    {
      "cell_type": "code",
      "source": [
        "import spacy\n",
        "from collections import Counter\n",
        "\n",
        "def analyze_tone_and_voice(paragraph):\n",
        "    nlp = spacy.load(\"en_core_web_sm\")\n",
        "    doc = nlp(paragraph)\n",
        "\n",
        "    # Tone analysis\n",
        "    word_counts = Counter(token.text.lower() for token in doc if not token.is_punct and not token.is_space)\n",
        "    total_words = sum(word_counts.values())\n",
        "    tone_scores = {word: count / total_words for word, count in word_counts.items()}\n",
        "\n",
        "    # Voice analysis\n",
        "    passive_voice_count = sum(1 for token in doc if token.dep_ == \"nsubjpass\")\n",
        "    active_voice_count = sum(1 for token in doc if token.dep_ == \"nsubj\" and token.head.pos_ == \"VERB\")\n",
        "    voice_scores = {\"Passive\": passive_voice_count, \"Active\": active_voice_count}\n",
        "\n",
        "    # Coherence analysis\n",
        "    sentence_similarities = []\n",
        "    for sent1 in doc.sents:\n",
        "        for sent2 in doc.sents:\n",
        "            similarity = sent1.similarity(sent2)\n",
        "            sentence_similarities.append(similarity)\n",
        "    coherence_score = sum(sentence_similarities) / len(sentence_similarities)\n",
        "\n",
        "    print(f\"Paragraph: {paragraph}\")\n",
        "    print(\"\\nKeyword Frequency Analysis:\")\n",
        "    for word, score in tone_scores.items():\n",
        "        print(f\"{word}: {score:.3f}\")\n",
        "    print(\"\\nVoice Analysis:\")\n",
        "    for voice, count in voice_scores.items():\n",
        "        print(f\"{voice}: {count}\")\n",
        "    print(f\"\\nCoherence Score: {coherence_score:.3f}\")\n",
        "\n",
        "\n",
        "# Example usage\n",
        "paragraph = \"During exercise, the muscles require a higher supply of oxygen to meet the increased energy demands. The process of oxygen delivery to the muscles involves several interconnected systems, including the respiratory system, cardiovascular system, and the muscles themselves.\"\n",
        "analyze_tone_and_voice(paragraph)\n"
      ],
      "metadata": {
        "colab": {
          "base_uri": "https://localhost:8080/"
        },
        "id": "jEK6UFNtC9km",
        "outputId": "f9fa467f-01ef-492c-f743-4705159a172b"
      },
      "execution_count": null,
      "outputs": [
        {
          "output_type": "stream",
          "name": "stdout",
          "text": [
            "Paragraph: During exercise, the muscles require a higher supply of oxygen to meet the increased energy demands. The process of oxygen delivery to the muscles involves several interconnected systems, including the respiratory system, cardiovascular system, and the muscles themselves.\n",
            "\n",
            "Keyword Frequency Analysis:\n",
            "during: 0.026\n",
            "exercise: 0.026\n",
            "the: 0.158\n",
            "muscles: 0.079\n",
            "require: 0.026\n",
            "a: 0.026\n",
            "higher: 0.026\n",
            "supply: 0.026\n",
            "of: 0.053\n",
            "oxygen: 0.053\n",
            "to: 0.053\n",
            "meet: 0.026\n",
            "increased: 0.026\n",
            "energy: 0.026\n",
            "demands: 0.026\n",
            "process: 0.026\n",
            "delivery: 0.026\n",
            "involves: 0.026\n",
            "several: 0.026\n",
            "interconnected: 0.026\n",
            "systems: 0.026\n",
            "including: 0.026\n",
            "respiratory: 0.026\n",
            "system: 0.053\n",
            "cardiovascular: 0.026\n",
            "and: 0.026\n",
            "themselves: 0.026\n",
            "\n",
            "Voice Analysis:\n",
            "Passive: 0\n",
            "Active: 2\n",
            "\n",
            "Coherence Score: 0.803\n"
          ]
        },
        {
          "output_type": "stream",
          "name": "stderr",
          "text": [
            "<ipython-input-10-7fe4d8682fdd>:22: UserWarning: [W007] The model you're using has no word vectors loaded, so the result of the Span.similarity method will be based on the tagger, parser and NER, which may not give useful similarity judgements. This may happen if you're using one of the small models, e.g. `en_core_web_sm`, which don't ship with word vectors and only use context-sensitive tensors. You can always add your own word vectors, or use one of the larger models instead if available.\n",
            "  similarity = sent1.similarity(sent2)\n"
          ]
        }
      ]
    },
    {
      "cell_type": "markdown",
      "source": [
        "Sentiment Analysis"
      ],
      "metadata": {
        "id": "RgMMmDXeErpk"
      }
    },
    {
      "cell_type": "code",
      "source": [
        "import nltk\n",
        "nltk.download('vader_lexicon')\n",
        "from nltk.sentiment import SentimentIntensityAnalyzer\n",
        "\n",
        "def analyze_sentiment(paragraph):\n",
        "    sid = SentimentIntensityAnalyzer()\n",
        "    sentiment_scores = sid.polarity_scores(paragraph)\n",
        "\n",
        "    print(f\"Paragraph: {paragraph}\")\n",
        "    print(\"\\nSentiment Analysis:\")\n",
        "    print(f\"Positive: {sentiment_scores['pos']:.3f}\")\n",
        "    print(f\"Negative: {sentiment_scores['neg']:.3f}\")\n",
        "    print(f\"Neutral: {sentiment_scores['neu']:.3f}\")\n",
        "    print(f\"Compound: {sentiment_scores['compound']:.3f}\")\n",
        "\n",
        "\n",
        "# Example usage\n",
        "paragraph = \"During exercise, the muscles require a higher supply of oxygen to meet the increased energy demands. The process of oxygen delivery to the muscles involves several interconnected systems, including the respiratory system, cardiovascular system, and the muscles themselves.\"\n",
        "analyze_sentiment(paragraph)\n"
      ],
      "metadata": {
        "colab": {
          "base_uri": "https://localhost:8080/"
        },
        "id": "OvaK1kg7ErMn",
        "outputId": "fa141b91-e5a8-4864-bdba-ae548a03345c"
      },
      "execution_count": null,
      "outputs": [
        {
          "output_type": "stream",
          "name": "stdout",
          "text": [
            "Paragraph: During exercise, the muscles require a higher supply of oxygen to meet the increased energy demands. The process of oxygen delivery to the muscles involves several interconnected systems, including the respiratory system, cardiovascular system, and the muscles themselves.\n",
            "\n",
            "Sentiment Analysis:\n",
            "Positive: 0.107\n",
            "Negative: 0.000\n",
            "Neutral: 0.893\n",
            "Compound: 0.494\n"
          ]
        },
        {
          "output_type": "stream",
          "name": "stderr",
          "text": [
            "[nltk_data] Downloading package vader_lexicon to /root/nltk_data...\n",
            "[nltk_data]   Package vader_lexicon is already up-to-date!\n"
          ]
        }
      ]
    }
  ]
}